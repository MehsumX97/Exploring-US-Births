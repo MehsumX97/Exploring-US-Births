{
 "cells": [
  {
   "cell_type": "markdown",
   "metadata": {},
   "source": [
    "# Exploring U.S. Births \n",
    "### In this project I will be analyzing data from the Centers for Disease Control and Prevention's National Center for Health Statistics."
   ]
  },
  {
   "cell_type": "markdown",
   "metadata": {},
   "source": [
    "#### The 'births.csv' file contains U.S. birth data from 1994 to 2003. The csv file has the following structure:"
   ]
  },
  {
   "cell_type": "markdown",
   "metadata": {},
   "source": [
    "| Header        |  Definition            |\n",
    "|:--------------|:-----------------------|\n",
    "| year          | Year                   |\n",
    "| month         | Month                  |\n",
    "| date_of_month | Day number of the month|\n",
    "| day_of_week   | Day of week, where 1 is Monday and 7 is Sunday|\n",
    "| births        | Number of births|"
   ]
  },
  {
   "cell_type": "code",
   "execution_count": 5,
   "metadata": {},
   "outputs": [
    {
     "data": {
      "text/plain": [
       "['year,month,date_of_month,day_of_week,births',\n",
       " '1994,1,1,6,8096',\n",
       " '1994,1,2,7,7772',\n",
       " '1994,1,3,1,10142',\n",
       " '1994,1,4,2,11248',\n",
       " '1994,1,5,3,11053',\n",
       " '1994,1,6,4,11406',\n",
       " '1994,1,7,5,11251',\n",
       " '1994,1,8,6,8653',\n",
       " '1994,1,9,7,7910']"
      ]
     },
     "execution_count": 5,
     "metadata": {},
     "output_type": "execute_result"
    }
   ],
   "source": [
    "file = open('births.csv','r')\n",
    "data = file.read()\n",
    "data = data.split('\\n')\n",
    "data[:10]                       #Preview of first 10 rows of the data file"
   ]
  },
  {
   "cell_type": "markdown",
   "metadata": {},
   "source": [
    "## Converting The Data Into A List Of Lists\n",
    "#### As we can see from the output above, the data is in string format. In order to analyze the data, I will first need to convert the data type into integer format (the data is all numbers), then I will need to create a list for each line, or day, of data."
   ]
  },
  {
   "cell_type": "code",
   "execution_count": 6,
   "metadata": {},
   "outputs": [
    {
     "data": {
      "text/plain": [
       "[[1994, 1, 1, 6, 8096],\n",
       " [1994, 1, 2, 7, 7772],\n",
       " [1994, 1, 3, 1, 10142],\n",
       " [1994, 1, 4, 2, 11248],\n",
       " [1994, 1, 5, 3, 11053],\n",
       " [1994, 1, 6, 4, 11406],\n",
       " [1994, 1, 7, 5, 11251],\n",
       " [1994, 1, 8, 6, 8653],\n",
       " [1994, 1, 9, 7, 7910],\n",
       " [1994, 1, 10, 1, 10498]]"
      ]
     },
     "execution_count": 6,
     "metadata": {},
     "output_type": "execute_result"
    }
   ],
   "source": [
    "def read_csv(file_name):                #Function to convert data file to list of lists\n",
    "    file = open(file_name)\n",
    "    data = file.read()\n",
    "    string_list = data.split('\\n')\n",
    "    final_list = []\n",
    "    \n",
    "    for line in string_list[1:]:\n",
    "        int_fields = []\n",
    "        string_fields = line.split(',')\n",
    "        for string in string_fields:\n",
    "            int_fields.append(int(string))\n",
    "        final_list.append(int_fields)\n",
    "    \n",
    "    return final_list\n",
    "        \n",
    "cdc_list = read_csv('births.csv')\n",
    "cdc_list[:10]                           #Preview first 10 rows of list"
   ]
  },
  {
   "cell_type": "markdown",
   "metadata": {},
   "source": [
    "## Calculating Number Of Births Each Month"
   ]
  },
  {
   "cell_type": "code",
   "execution_count": 7,
   "metadata": {},
   "outputs": [
    {
     "data": {
      "text/plain": [
       "{1: 3232517,\n",
       " 2: 3018140,\n",
       " 3: 3322069,\n",
       " 4: 3185314,\n",
       " 5: 3350907,\n",
       " 6: 3296530,\n",
       " 7: 3498783,\n",
       " 8: 3525858,\n",
       " 9: 3439698,\n",
       " 10: 3378814,\n",
       " 11: 3171647,\n",
       " 12: 3301860}"
      ]
     },
     "execution_count": 7,
     "metadata": {},
     "output_type": "execute_result"
    }
   ],
   "source": [
    "def month_births(list_name):            #Function to create dictionary of birth counts by month\n",
    "    births_per_month = {}\n",
    "  \n",
    "    for line in list_name:\n",
    "        month = line[1]\n",
    "        births = line[4]\n",
    "        \n",
    "        if month in births_per_month:\n",
    "            births_per_month[month] = births_per_month[month] + births\n",
    "        else:\n",
    "            births_per_month[month] = births\n",
    "        \n",
    "    return births_per_month\n",
    "            \n",
    "cdc_month_births = month_births(cdc_list)\n",
    "cdc_month_births"
   ]
  },
  {
   "cell_type": "markdown",
   "metadata": {},
   "source": [
    "## Calculating Number Of Births Per Day-Of-Month"
   ]
  },
  {
   "cell_type": "code",
   "execution_count": 8,
   "metadata": {},
   "outputs": [
    {
     "data": {
      "text/plain": [
       "{1: 5789166,\n",
       " 2: 6446196,\n",
       " 3: 6322855,\n",
       " 4: 6288429,\n",
       " 5: 6233657,\n",
       " 6: 4562111,\n",
       " 7: 4079723}"
      ]
     },
     "execution_count": 8,
     "metadata": {},
     "output_type": "execute_result"
    }
   ],
   "source": [
    "def dow_births(list_name):\n",
    "    births_per_weekday = {}\n",
    "    \n",
    "    for line in list_name:\n",
    "        week_day = line[3]\n",
    "        num_births = line[4]\n",
    "        \n",
    "        if week_day in births_per_weekday:\n",
    "            births_per_weekday[week_day] = births_per_weekday[week_day] + num_births\n",
    "        else:\n",
    "            births_per_weekday[week_day] = num_births\n",
    "    \n",
    "    return births_per_weekday\n",
    "\n",
    "cdc_day_births = dow_births(cdc_list)\n",
    "cdc_day_births"
   ]
  },
  {
   "cell_type": "markdown",
   "metadata": {},
   "source": [
    "## Defining A General Function To Calculate Births By User Input\n",
    "#### Previously I defined a few functions to calculate the number of births for a specific column (year, month, dday of week, etc.), however, it would be more efficient to define a single function that can calculate the number of births for any specified time-measure, based on two parameters: list name and column.\n",
    "#### The function below is able to return the different outputs above, depending on the parameter measure given"
   ]
  },
  {
   "cell_type": "code",
   "execution_count": 9,
   "metadata": {
    "collapsed": true
   },
   "outputs": [],
   "source": [
    "def calc_counts(list_name, column):       #Defining a general function to calculate births by year, month, day, or week day\n",
    "    totals_dict = {}\n",
    "    \n",
    "    for line in list_name:\n",
    "        column_value = line[column]\n",
    "        num_births = line[4]\n",
    "        \n",
    "        if column_value in totals_dict:\n",
    "            totals_dict[column_value] = totals_dict[column_value] + num_births\n",
    "        else:\n",
    "            totals_dict[column_value] = num_births\n",
    "            \n",
    "    return totals_dict\n",
    "    \n",
    "cdc_year_births = calc_counts(cdc_list, 0)\n",
    "cdc_month_births = calc_counts(cdc_list, 1)\n",
    "cdc_dom_births = calc_counts(cdc_list, 2)\n",
    "cdc_dow_births = calc_counts(cdc_list, 3)"
   ]
  },
  {
   "cell_type": "markdown",
   "metadata": {},
   "source": [
    "### The cells below show the different dictionaries based on the second parameter:"
   ]
  },
  {
   "cell_type": "code",
   "execution_count": 10,
   "metadata": {},
   "outputs": [
    {
     "name": "stdout",
     "output_type": "stream",
     "text": [
      "Yearly births:\n"
     ]
    },
    {
     "data": {
      "text/plain": [
       "{1994: 3952767,\n",
       " 1995: 3899589,\n",
       " 1996: 3891494,\n",
       " 1997: 3880894,\n",
       " 1998: 3941553,\n",
       " 1999: 3959417,\n",
       " 2000: 4058814,\n",
       " 2001: 4025933,\n",
       " 2002: 4021726,\n",
       " 2003: 4089950}"
      ]
     },
     "execution_count": 10,
     "metadata": {},
     "output_type": "execute_result"
    }
   ],
   "source": [
    "print(\"Yearly births:\")\n",
    "cdc_year_births"
   ]
  },
  {
   "cell_type": "code",
   "execution_count": 11,
   "metadata": {},
   "outputs": [
    {
     "name": "stdout",
     "output_type": "stream",
     "text": [
      "Monthly births\n"
     ]
    },
    {
     "data": {
      "text/plain": [
       "{1: 3232517,\n",
       " 2: 3018140,\n",
       " 3: 3322069,\n",
       " 4: 3185314,\n",
       " 5: 3350907,\n",
       " 6: 3296530,\n",
       " 7: 3498783,\n",
       " 8: 3525858,\n",
       " 9: 3439698,\n",
       " 10: 3378814,\n",
       " 11: 3171647,\n",
       " 12: 3301860}"
      ]
     },
     "execution_count": 11,
     "metadata": {},
     "output_type": "execute_result"
    }
   ],
   "source": [
    "print(\"Monthly births\")\n",
    "cdc_month_births"
   ]
  },
  {
   "cell_type": "code",
   "execution_count": 12,
   "metadata": {},
   "outputs": [
    {
     "name": "stdout",
     "output_type": "stream",
     "text": [
      "Day-of-Month births:\n"
     ]
    },
    {
     "data": {
      "text/plain": [
       "{1: 1276557,\n",
       " 2: 1288739,\n",
       " 3: 1304499,\n",
       " 4: 1288154,\n",
       " 5: 1299953,\n",
       " 6: 1304474,\n",
       " 7: 1310459,\n",
       " 8: 1312297,\n",
       " 9: 1303292,\n",
       " 10: 1320764,\n",
       " 11: 1314361,\n",
       " 12: 1318437,\n",
       " 13: 1277684,\n",
       " 14: 1320153,\n",
       " 15: 1319171,\n",
       " 16: 1315192,\n",
       " 17: 1324953,\n",
       " 18: 1326855,\n",
       " 19: 1318727,\n",
       " 20: 1324821,\n",
       " 21: 1322897,\n",
       " 22: 1317381,\n",
       " 23: 1293290,\n",
       " 24: 1288083,\n",
       " 25: 1272116,\n",
       " 26: 1284796,\n",
       " 27: 1294395,\n",
       " 28: 1307685,\n",
       " 29: 1223161,\n",
       " 30: 1202095,\n",
       " 31: 746696}"
      ]
     },
     "execution_count": 12,
     "metadata": {},
     "output_type": "execute_result"
    }
   ],
   "source": [
    "print(\"Day-of-Month births:\")\n",
    "cdc_dom_births"
   ]
  },
  {
   "cell_type": "code",
   "execution_count": 13,
   "metadata": {},
   "outputs": [
    {
     "name": "stdout",
     "output_type": "stream",
     "text": [
      "Day-of-Week births:\n"
     ]
    },
    {
     "data": {
      "text/plain": [
       "{1: 5789166,\n",
       " 2: 6446196,\n",
       " 3: 6322855,\n",
       " 4: 6288429,\n",
       " 5: 6233657,\n",
       " 6: 4562111,\n",
       " 7: 4079723}"
      ]
     },
     "execution_count": 13,
     "metadata": {},
     "output_type": "execute_result"
    }
   ],
   "source": [
    "print(\"Day-of-Week births:\")\n",
    "cdc_dow_births"
   ]
  },
  {
   "cell_type": "markdown",
   "metadata": {},
   "source": [
    "## Calculating The Minimum And Maximum Births For Each Time Scale\n",
    "#### Now that I got the dictionaries with the number of births for each time scale, I want to find out what is the minimum and maximum births for each dictionary? "
   ]
  },
  {
   "cell_type": "code",
   "execution_count": 27,
   "metadata": {},
   "outputs": [
    {
     "name": "stdout",
     "output_type": "stream",
     "text": [
      "Maximum and minimum births by year (1997-2003):\n",
      "Maximum births: (2003, 4089950)\n",
      "Minimum births: (1997, 3880894)\n"
     ]
    }
   ],
   "source": [
    "print(\"Maximum and minimum births by year (1997-2003):\")\n",
    "print(\"Maximum births:\", max(cdc_year_births.items(), key=lambda x: x[1]))\n",
    "print(\"Minimum births:\", min(cdc_year_births.items(), key=lambda x: x[1]))"
   ]
  },
  {
   "cell_type": "code",
   "execution_count": 26,
   "metadata": {},
   "outputs": [
    {
     "name": "stdout",
     "output_type": "stream",
     "text": [
      "Maximum and minimim births by month (1-12):\n",
      "Maximum births: (8, 3525858)\n",
      "Minimum births: (2, 3018140)\n"
     ]
    }
   ],
   "source": [
    "print(\"Maximum and minimim births by month (1-12):\")\n",
    "print(\"Maximum births:\", max(cdc_month_births.items(), key=lambda x: x[1]))\n",
    "print(\"Minimum births:\", min(cdc_month_births.items(), key=lambda x: x[1]))"
   ]
  },
  {
   "cell_type": "code",
   "execution_count": 29,
   "metadata": {},
   "outputs": [
    {
     "name": "stdout",
     "output_type": "stream",
     "text": [
      "Maximum and minimum births by day-of-month (1-31):\n",
      "Maximum births: (18, 1326855)\n",
      "Minimum births: (31, 746696)\n"
     ]
    }
   ],
   "source": [
    "print(\"Maximum and minimum births by day-of-month (1-31):\")\n",
    "print(\"Maximum births:\", max(cdc_dom_births.items(), key=lambda x: x[1]))\n",
    "print(\"Minimum births:\", min(cdc_dom_births.items(), key=lambda x: x[1]))"
   ]
  },
  {
   "cell_type": "code",
   "execution_count": 31,
   "metadata": {},
   "outputs": [
    {
     "name": "stdout",
     "output_type": "stream",
     "text": [
      "Maximum and minimum births by daay of week (1-7):\n",
      "Maximum births: (2, 6446196)\n",
      "Minimum births: (7, 4079723)\n"
     ]
    }
   ],
   "source": [
    "print(\"Maximum and minimum births by daay of week (1-7):\")\n",
    "print(\"Maximum births:\", max(cdc_dow_births.items(), key=lambda x: x[1]))\n",
    "print(\"Minimum births:\", min(cdc_dow_births.items(), key=lambda x: x[1]))"
   ]
  },
  {
   "cell_type": "markdown",
   "metadata": {},
   "source": [
    "## The Table Below Summarizes The Max And Min Of Each Dictionary:"
   ]
  },
  {
   "cell_type": "markdown",
   "metadata": {},
   "source": [
    "<h3 align=\"center\">Minimum Births</h3> "
   ]
  },
  {
   "cell_type": "markdown",
   "metadata": {},
   "source": [
    "| Dictionary         |  Time of Minimum-Births| Number of Births |          \n",
    "|:-------------------|:-----------------------|:-----------------|     \n",
    "| cdc_year_births    | 1997                   | 3,880,894        |          \n",
    "| cdc_month_births   | 2   (Febuary)          | 3,018,140        |\n",
    "| cdc_dom_births     | 31                     | 746,696          |\n",
    "| cdc_dow_births     | 7   (Sunday)           | 4,079,723        |"
   ]
  },
  {
   "cell_type": "markdown",
   "metadata": {},
   "source": [
    "<h3 align=\"center\">Maximum Births</h3> "
   ]
  },
  {
   "cell_type": "markdown",
   "metadata": {},
   "source": [
    "| Dictionary         |  Time of Maximum-Births | Number of Births |          \n",
    "|:-------------------|:------------------------|:-----------------|          \n",
    "| cdc_year_births    | 2003                    | 4,089,950        |          \n",
    "| cdc_month_births   | 8  (August)             | 3,525,858        |\n",
    "| cdc_dom_births     | 18                      | 1,326,855        |\n",
    "| cdc_dow_births     | 2  (Tuesday)            | 6,446,196        |"
   ]
  },
  {
   "cell_type": "markdown",
   "metadata": {},
   "source": [
    "## Analysis\n",
    "- It seems that on a yearly basis, more people are born than in the previous year. The starting year in this dataset is 1997, which has the least recorded number of births, while the last year in the dataset is 2003, which has the most. This is expected since advancements in medicine and technology has allowed humans to live longer and healthier.\n",
    "- On a monthly basis, Febuary had the least births while August had the most. This could mean that on average more people are born in the 2nd half of the year than the first half.\n",
    "- The day that had the least number of births is the last day of the month, the 31st, however this could be because not all the months have 31 days. On the other hand, the 18th day had the most number of births, which could mean that most Americans are born mid-month.\n",
    "- As for the day or week, Sunday had the least while Tuesday had the most. The gap between these two is the most in all of the dictionary, with a gap of over 2.36 million births. This means that on more Americans are born in the weekday than in the weekend."
   ]
  },
  {
   "cell_type": "markdown",
   "metadata": {},
   "source": [
    "## Future Research\n",
    "#### To analyze number of births further, I plan on analyzing with a longer dataset, and with datasets from other countries as well. This dataset was only American births, but by analyzing number of burths in other countries I may find some interesting patterns or results. I also think an interesting analysis would be to analyze birthdays (especially on leap-years!)."
   ]
  }
 ],
 "metadata": {
  "kernelspec": {
   "display_name": "Python [conda env:Anaconda3]",
   "language": "python",
   "name": "conda-env-Anaconda3-py"
  },
  "language_info": {
   "codemirror_mode": {
    "name": "ipython",
    "version": 3
   },
   "file_extension": ".py",
   "mimetype": "text/x-python",
   "name": "python",
   "nbconvert_exporter": "python",
   "pygments_lexer": "ipython3",
   "version": "3.6.3"
  }
 },
 "nbformat": 4,
 "nbformat_minor": 2
}
